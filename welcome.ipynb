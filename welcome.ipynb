{
 "cells": [
  {
   "cell_type": "code",
   "execution_count": 1,
   "metadata": {},
   "outputs": [],
   "source": [
    "from tkinter import *\n",
    "from PIL import Image,ImageTk                        \n",
    "import load"
   ]
  },
  {
   "cell_type": "code",
   "execution_count": 2,
   "metadata": {},
   "outputs": [],
   "source": [
    "class welcomes:\n",
    "    def __init__(self):\n",
    "        self.rt=Tk()\n",
    "        self.rt.title(\"COVID-19 E-Surveillance\")\n",
    "        self.rt.config(background=\"#ccffcc\")    #FFFFCC       #94b8b8\n",
    "        self.rt.geometry(\"1205x550+160+100\")\n",
    "\n",
    "        self.l1=Label(self.rt)\n",
    "        self.l1.place(relx=0.25, rely=0.0, height=81, width=604)\n",
    "        img1=ImageTk.PhotoImage(Image.open(\"bank_images/welCo.png\"))\n",
    "        self.l1.configure(image=img1)\n",
    "        self.l1.configure(background=\"#ccffcc\")\n",
    "\n",
    "        self.l2=Label(self.rt)\n",
    "        self.l2.place(relx=0.13, rely=0.2, height=315, width=990)\n",
    "        limg=ImageTk.PhotoImage(Image.open(\"bank_images/Let's.png\"))\n",
    "        self.l2.configure(image=limg)\n",
    "\n",
    "        self.but=Button(self.rt,command=self.click)\n",
    "        self.but.place(relx=0.4, rely=0.84, height=73, width=268)\n",
    "        img2 = ImageTk.PhotoImage(Image.open(\"bank_images/cli.gif\"))\n",
    "        self.but.configure(image=img2)\n",
    "        self.rt.mainloop()\n",
    "\n",
    "    def click(self):\n",
    "        self.rt.destroy()\n",
    "        lo=load.load_class()\n",
    "\n",
    "\n",
    "ob=welcomes()"
   ]
  },
  {
   "cell_type": "code",
   "execution_count": null,
   "metadata": {},
   "outputs": [],
   "source": []
  },
  {
   "cell_type": "code",
   "execution_count": null,
   "metadata": {},
   "outputs": [],
   "source": []
  },
  {
   "cell_type": "code",
   "execution_count": null,
   "metadata": {},
   "outputs": [],
   "source": []
  }
 ],
 "metadata": {
  "kernelspec": {
   "display_name": "Python 3",
   "language": "python",
   "name": "python3"
  },
  "language_info": {
   "codemirror_mode": {
    "name": "ipython",
    "version": 3
   },
   "file_extension": ".py",
   "mimetype": "text/x-python",
   "name": "python",
   "nbconvert_exporter": "python",
   "pygments_lexer": "ipython3",
   "version": "3.7.3"
  }
 },
 "nbformat": 4,
 "nbformat_minor": 2
}
